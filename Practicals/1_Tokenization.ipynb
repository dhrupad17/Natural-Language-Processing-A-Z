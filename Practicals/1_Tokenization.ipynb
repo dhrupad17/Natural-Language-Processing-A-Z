{
 "cells": [
  {
   "cell_type": "code",
   "execution_count": 1,
   "id": "4d53262d-4392-4ef4-b3a9-179bc1f256a1",
   "metadata": {},
   "outputs": [
    {
     "name": "stdout",
     "output_type": "stream",
     "text": [
      "Requirement already satisfied: nltk in d:\\anaconda2024\\lib\\site-packages (3.8.1)\n",
      "Requirement already satisfied: click in d:\\anaconda2024\\lib\\site-packages (from nltk) (8.1.7)\n",
      "Requirement already satisfied: joblib in d:\\anaconda2024\\lib\\site-packages (from nltk) (1.4.2)\n",
      "Requirement already satisfied: regex>=2021.8.3 in d:\\anaconda2024\\lib\\site-packages (from nltk) (2023.10.3)\n",
      "Requirement already satisfied: tqdm in d:\\anaconda2024\\lib\\site-packages (from nltk) (4.66.4)\n",
      "Requirement already satisfied: colorama in d:\\anaconda2024\\lib\\site-packages (from click->nltk) (0.4.6)\n"
     ]
    }
   ],
   "source": [
    "!pip install nltk"
   ]
  },
  {
   "cell_type": "code",
   "execution_count": 23,
   "id": "e96dde2a-4843-4dce-9337-c727f3854906",
   "metadata": {},
   "outputs": [],
   "source": [
    "corpus=\"\"\"\"Hello my name is Dhrupad Chakraborty.\n",
    "I have completed my BTECH from Academy of Technology.\n",
    "I am a full stack java developer, currently exploring Data Science.\n",
    "\"\"\""
   ]
  },
  {
   "cell_type": "code",
   "execution_count": 5,
   "id": "186d2b14-ed12-4bee-9989-2f92b349c22c",
   "metadata": {},
   "outputs": [
    {
     "name": "stdout",
     "output_type": "stream",
     "text": [
      "\" Hello my name is Dhrupad Chakraborty.\n",
      "I have completed my BTECH from Academy of Technology.\n",
      "I a a full stack java developer, currently exploring Data Science.\n",
      "\n"
     ]
    }
   ],
   "source": [
    "print(corpus)"
   ]
  },
  {
   "cell_type": "code",
   "execution_count": 7,
   "id": "d3048fb7-0578-4e18-9ccc-a5aec803793b",
   "metadata": {},
   "outputs": [],
   "source": [
    "## Paragraphs--> Sentences\n",
    "from nltk.tokenize import sent_tokenize"
   ]
  },
  {
   "cell_type": "code",
   "execution_count": 13,
   "id": "640de595-478d-46b8-8b64-16dd3175f855",
   "metadata": {},
   "outputs": [
    {
     "name": "stderr",
     "output_type": "stream",
     "text": [
      "[nltk_data] Downloading package punkt to\n",
      "[nltk_data]     C:\\Users\\HP\\AppData\\Roaming\\nltk_data...\n",
      "[nltk_data]   Unzipping tokenizers\\punkt.zip.\n"
     ]
    },
    {
     "data": {
      "text/plain": [
       "True"
      ]
     },
     "execution_count": 13,
     "metadata": {},
     "output_type": "execute_result"
    }
   ],
   "source": [
    "import nltk\n",
    "nltk.download('punkt')"
   ]
  },
  {
   "cell_type": "code",
   "execution_count": 25,
   "id": "203e1bd5-278d-4aaa-b645-7c2bcc38a74a",
   "metadata": {},
   "outputs": [],
   "source": [
    "documents=sent_tokenize(corpus)"
   ]
  },
  {
   "cell_type": "code",
   "execution_count": 17,
   "id": "597a649b-9d76-441d-816e-a4074ab41077",
   "metadata": {},
   "outputs": [
    {
     "data": {
      "text/plain": [
       "list"
      ]
     },
     "execution_count": 17,
     "metadata": {},
     "output_type": "execute_result"
    }
   ],
   "source": [
    "type(documents)"
   ]
  },
  {
   "cell_type": "code",
   "execution_count": 29,
   "id": "f71d0961-93ca-4972-a4f8-903200d29294",
   "metadata": {},
   "outputs": [
    {
     "data": {
      "text/plain": [
       "['\"Hello my name is Dhrupad Chakraborty.',\n",
       " 'I have completed my BTECH from Academy of Technology.',\n",
       " 'I am a full stack java developer, currently exploring Data Science.']"
      ]
     },
     "execution_count": 29,
     "metadata": {},
     "output_type": "execute_result"
    }
   ],
   "source": [
    "documents"
   ]
  },
  {
   "cell_type": "code",
   "execution_count": 27,
   "id": "6080461c-be71-436a-a40a-084113a7bae7",
   "metadata": {},
   "outputs": [
    {
     "name": "stdout",
     "output_type": "stream",
     "text": [
      "\"Hello my name is Dhrupad Chakraborty.\n",
      "I have completed my BTECH from Academy of Technology.\n",
      "I am a full stack java developer, currently exploring Data Science.\n"
     ]
    }
   ],
   "source": [
    "for sentence in documents:\n",
    "    print(sentence)"
   ]
  },
  {
   "cell_type": "code",
   "execution_count": 31,
   "id": "cd9c5859-76ab-4717-bb47-b3f344669404",
   "metadata": {},
   "outputs": [],
   "source": [
    "## Sentence --> Words\n",
    "from nltk.tokenize import word_tokenize"
   ]
  },
  {
   "cell_type": "code",
   "execution_count": 33,
   "id": "7e229d38-7d6b-4d47-bb37-03fdd2467828",
   "metadata": {},
   "outputs": [
    {
     "data": {
      "text/plain": [
       "['``',\n",
       " 'Hello',\n",
       " 'my',\n",
       " 'name',\n",
       " 'is',\n",
       " 'Dhrupad',\n",
       " 'Chakraborty',\n",
       " '.',\n",
       " 'I',\n",
       " 'have',\n",
       " 'completed',\n",
       " 'my',\n",
       " 'BTECH',\n",
       " 'from',\n",
       " 'Academy',\n",
       " 'of',\n",
       " 'Technology',\n",
       " '.',\n",
       " 'I',\n",
       " 'am',\n",
       " 'a',\n",
       " 'full',\n",
       " 'stack',\n",
       " 'java',\n",
       " 'developer',\n",
       " ',',\n",
       " 'currently',\n",
       " 'exploring',\n",
       " 'Data',\n",
       " 'Science',\n",
       " '.']"
      ]
     },
     "execution_count": 33,
     "metadata": {},
     "output_type": "execute_result"
    }
   ],
   "source": [
    "word_tokenize(corpus)"
   ]
  },
  {
   "cell_type": "code",
   "execution_count": 35,
   "id": "c4ef443e-5cb5-4052-8f77-ed9b12acd27b",
   "metadata": {},
   "outputs": [
    {
     "name": "stdout",
     "output_type": "stream",
     "text": [
      "['``', 'Hello', 'my', 'name', 'is', 'Dhrupad', 'Chakraborty', '.']\n",
      "['I', 'have', 'completed', 'my', 'BTECH', 'from', 'Academy', 'of', 'Technology', '.']\n",
      "['I', 'am', 'a', 'full', 'stack', 'java', 'developer', ',', 'currently', 'exploring', 'Data', 'Science', '.']\n"
     ]
    }
   ],
   "source": [
    "for sentence in documents:\n",
    "    print(word_tokenize(sentence))"
   ]
  },
  {
   "cell_type": "code",
   "execution_count": 37,
   "id": "e0fc60d5-07a3-4dbf-bc5e-9b074f8adfbc",
   "metadata": {},
   "outputs": [],
   "source": [
    "from nltk.tokenize import wordpunct_tokenize"
   ]
  },
  {
   "cell_type": "code",
   "execution_count": 39,
   "id": "b09a4702-24d0-4f2e-b31c-7db198187a02",
   "metadata": {},
   "outputs": [
    {
     "data": {
      "text/plain": [
       "['\"',\n",
       " 'Hello',\n",
       " 'my',\n",
       " 'name',\n",
       " 'is',\n",
       " 'Dhrupad',\n",
       " 'Chakraborty',\n",
       " '.',\n",
       " 'I',\n",
       " 'have',\n",
       " 'completed',\n",
       " 'my',\n",
       " 'BTECH',\n",
       " 'from',\n",
       " 'Academy',\n",
       " 'of',\n",
       " 'Technology',\n",
       " '.',\n",
       " 'I',\n",
       " 'am',\n",
       " 'a',\n",
       " 'full',\n",
       " 'stack',\n",
       " 'java',\n",
       " 'developer',\n",
       " ',',\n",
       " 'currently',\n",
       " 'exploring',\n",
       " 'Data',\n",
       " 'Science',\n",
       " '.']"
      ]
     },
     "execution_count": 39,
     "metadata": {},
     "output_type": "execute_result"
    }
   ],
   "source": [
    "wordpunct_tokenize(corpus)"
   ]
  },
  {
   "cell_type": "code",
   "execution_count": 41,
   "id": "a452c261-478a-425d-a5e5-e30c09145a4d",
   "metadata": {},
   "outputs": [],
   "source": [
    "from nltk.tokenize import TreebankWordTokenizer"
   ]
  },
  {
   "cell_type": "code",
   "execution_count": 43,
   "id": "d94471e0-8698-44f0-a79c-a3f9ec864339",
   "metadata": {},
   "outputs": [],
   "source": [
    "tokenizer=TreebankWordTokenizer()"
   ]
  },
  {
   "cell_type": "code",
   "execution_count": 45,
   "id": "4ec305ed-dacc-4e94-ba0c-dacac6b5d42e",
   "metadata": {},
   "outputs": [
    {
     "data": {
      "text/plain": [
       "['``',\n",
       " 'Hello',\n",
       " 'my',\n",
       " 'name',\n",
       " 'is',\n",
       " 'Dhrupad',\n",
       " 'Chakraborty.',\n",
       " 'I',\n",
       " 'have',\n",
       " 'completed',\n",
       " 'my',\n",
       " 'BTECH',\n",
       " 'from',\n",
       " 'Academy',\n",
       " 'of',\n",
       " 'Technology.',\n",
       " 'I',\n",
       " 'am',\n",
       " 'a',\n",
       " 'full',\n",
       " 'stack',\n",
       " 'java',\n",
       " 'developer',\n",
       " ',',\n",
       " 'currently',\n",
       " 'exploring',\n",
       " 'Data',\n",
       " 'Science',\n",
       " '.']"
      ]
     },
     "execution_count": 45,
     "metadata": {},
     "output_type": "execute_result"
    }
   ],
   "source": [
    "tokenizer.tokenize(corpus)"
   ]
  },
  {
   "cell_type": "code",
   "execution_count": null,
   "id": "7d66c1ec-73fa-4b7b-aac5-415159890214",
   "metadata": {},
   "outputs": [],
   "source": []
  }
 ],
 "metadata": {
  "kernelspec": {
   "display_name": "Python 3 (ipykernel)",
   "language": "python",
   "name": "python3"
  },
  "language_info": {
   "codemirror_mode": {
    "name": "ipython",
    "version": 3
   },
   "file_extension": ".py",
   "mimetype": "text/x-python",
   "name": "python",
   "nbconvert_exporter": "python",
   "pygments_lexer": "ipython3",
   "version": "3.12.4"
  }
 },
 "nbformat": 4,
 "nbformat_minor": 5
}
